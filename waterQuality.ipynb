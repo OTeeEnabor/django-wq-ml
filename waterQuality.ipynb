{
 "cells": [
  {
   "cell_type": "code",
   "execution_count": null,
   "metadata": {
    "colab": {
     "base_uri": "https://localhost:8080/"
    },
    "executionInfo": {
     "elapsed": 28637,
     "status": "ok",
     "timestamp": 1674550039035,
     "user": {
      "displayName": "Akinyomi Oluwarotimi Edmund",
      "userId": "04010171578647484774"
     },
     "user_tz": -120
    },
    "id": "A0BfIPENHQCb",
    "outputId": "4e99e9be-ce01-4009-9801-ac2081ae3e2d"
   },
   "outputs": [
    {
     "name": "stdout",
     "output_type": "stream",
     "text": [
      "Mounted at /content/drive\n"
     ]
    }
   ],
   "source": [
    "#mount google drive in colab\n",
    "\n",
    "from google.colab import drive\n",
    "drive.mount('/content/drive')"
   ]
  },
  {
   "cell_type": "code",
   "execution_count": null,
   "metadata": {
    "colab": {
     "base_uri": "https://localhost:8080/"
    },
    "executionInfo": {
     "elapsed": 383,
     "status": "ok",
     "timestamp": 1674550045983,
     "user": {
      "displayName": "Akinyomi Oluwarotimi Edmund",
      "userId": "04010171578647484774"
     },
     "user_tz": -120
    },
    "id": "64ChBtNtHuxn",
    "outputId": "0e4a9162-cbfd-46c3-801a-3a54d0676a9c"
   },
   "outputs": [
    {
     "name": "stdout",
     "output_type": "stream",
     "text": [
      "/content\n"
     ]
    }
   ],
   "source": [
    "#print working directory\n",
    "!pwd"
   ]
  },
  {
   "cell_type": "code",
   "execution_count": 11,
   "metadata": {
    "colab": {
     "base_uri": "https://localhost:8080/"
    },
    "executionInfo": {
     "elapsed": 4,
     "status": "ok",
     "timestamp": 1674550048223,
     "user": {
      "displayName": "Akinyomi Oluwarotimi Edmund",
      "userId": "04010171578647484774"
     },
     "user_tz": -120
    },
    "id": "AK_LikxPH0HG",
    "outputId": "315d3c07-4bd8-46ff-e5e2-b466ab9347ad"
   },
   "outputs": [
    {
     "name": "stdout",
     "output_type": "stream",
     "text": [
      "['.ipynb_checkpoints', 'data', 'db.sqlite3', 'manage.py', 'requirements', 'requirements.txt', 'rf_classification_model.pkl', 'rf_model.sav', 'static', 'templates', 'waterQuality.ipynb', 'wqapp', 'wqpred']\n"
     ]
    }
   ],
   "source": [
    "import os\n",
    "\n",
    "#init dataset\n",
    "dataset_path = 'data/waterquality_clean.csv'#'/content/drive/MyDrive/dataset/WaterQuality/waterQuality1.csv'\n",
    "\n",
    "#list directories in dataset\n",
    "print(os.listdir())\n",
    "#print(os.listdir('/content/drive/MyDrive/dataset/WaterQuality'))"
   ]
  },
  {
   "cell_type": "code",
   "execution_count": 10,
   "metadata": {
    "id": "SlMg1W4sI6eC"
   },
   "outputs": [],
   "source": [
    "#packages\n",
    "\n",
    "import pickle\n",
    "import pandas as pd\n",
    "import numpy as np\n",
    "from sklearn.model_selection import train_test_split\n",
    "from sklearn import svm\n",
    "from sklearn import metrics\n",
    "from sklearn.linear_model import LogisticRegression\n",
    "from sklearn.ensemble import RandomTreesEmbedding, RandomForestClassifier\n",
    "from imblearn.metrics import geometric_mean_score\n",
    "import matplotlib.pylab as plt\n",
    "from imblearn.over_sampling import RandomOverSampler, SMOTE, BorderlineSMOTE\n",
    "from imblearn.under_sampling import EditedNearestNeighbours\n",
    "import seaborn as sns"
   ]
  },
  {
   "cell_type": "code",
   "execution_count": 12,
   "metadata": {
    "colab": {
     "base_uri": "https://localhost:8080/"
    },
    "executionInfo": {
     "elapsed": 1257,
     "status": "ok",
     "timestamp": 1674550052736,
     "user": {
      "displayName": "Akinyomi Oluwarotimi Edmund",
      "userId": "04010171578647484774"
     },
     "user_tz": -120
    },
    "id": "_SoLalDcHrYf",
    "outputId": "55c01017-13be-4cff-b4b6-cfc91d882423"
   },
   "outputs": [
    {
     "name": "stdout",
     "output_type": "stream",
     "text": [
      "absl-py==1.2.0\n",
      "aiohttp @ file:///C:/ci/aiohttp_1646806572557/work\n",
      "aiosignal @ file:///tmp/build/80754af9/aiosignal_1637843061372/work\n",
      "alabaster @ file:///home/ktietz/src/ci/alabaster_1611921544520/work\n",
      "altair==4.2.0\n",
      "anaconda-client @ file:///C:/ci/anaconda-client_1635342725944/work\n",
      "anaconda-navigator==2.1.4\n",
      "anaconda-project @ file:///tmp/build/80754af9/anaconda-project_1637161053845/work\n",
      "anyio @ file:///C:/ci/anyio_1644481921011/work/dist\n",
      "appdirs==1.4.4\n",
      "argon2-cffi @ file:///opt/conda/conda-bld/argon2-cffi_1645000214183/work\n",
      "argon2-cffi-bindings @ file:///C:/ci/argon2-cffi-bindings_1644551690056/work\n",
      "arrow @ file:///opt/conda/conda-bld/arrow_1649166651673/work\n",
      "astroid @ file:///C:/ci/astroid_1628063282661/work\n",
      "astropy @ file:///C:/ci/astropy_1650634291321/work\n",
      "asttokens @ file:///opt/conda/conda-bld/asttokens_1646925590279/work\n",
      "astunparse==1.6.3\n",
      "async-timeout @ file:///tmp/build/80754af9/async-timeout_1637851218186/work\n",
      "atomicwrites==1.4.0\n",
      "attrs @ file:///opt/conda/conda-bld/attrs_1642510447205/work\n",
      "Automat @ file:///tmp/build/80754af9/automat_1600298431173/work\n",
      "autopep8 @ file:///opt/conda/conda-bld/autopep8_1639166893812/work\n",
      "Babel @ file:///tmp/build/80754af9/babel_1620871417480/work\n",
      "backcall @ file:///home/ktietz/src/ci/backcall_1611930011877/work\n",
      "backports.functools-lru-cache @ file:///tmp/build/80754af9/backports.functools_lru_cache_1618170165463/work\n",
      "backports.tempfile @ file:///home/linux1/recipes/ci/backports.tempfile_1610991236607/work\n",
      "backports.weakref==1.0.post1\n",
      "bcrypt @ file:///C:/ci/bcrypt_1607022693089/work\n",
      "beautifulsoup4 @ file:///C:/ci/beautifulsoup4_1650293025093/work\n",
      "binaryornot @ file:///tmp/build/80754af9/binaryornot_1617751525010/work\n",
      "bitarray @ file:///C:/ci/bitarray_1648739663053/work\n",
      "bkcharts==0.2\n",
      "black==19.10b0\n",
      "bleach @ file:///opt/conda/conda-bld/bleach_1641577558959/work\n",
      "blinker==1.5\n",
      "bokeh @ file:///C:/ci/bokeh_1638362966927/work\n",
      "Note: you may need to restart the kernel to use updated packages.\n",
      "boto3 @ file:///opt/conda/conda-bld/boto3_1649078879353/work\n",
      "botocore @ file:///opt/conda/conda-bld/botocore_1649076662316/work\n",
      "Bottleneck @ file:///C:/ci/bottleneck_1648010904582/work\n",
      "Brotli==1.0.9\n",
      "brotlipy==0.7.0\n",
      "cachetools @ file:///tmp/build/80754af9/cachetools_1619597386817/work\n",
      "certifi==2021.10.8\n",
      "cffi @ file:///C:/ci_310/cffi_1642682485096/work\n",
      "chardet @ file:///C:/ci/chardet_1607706937985/work\n",
      "charset-normalizer @ file:///tmp/build/80754af9/charset-normalizer_1630003229654/work\n",
      "click @ file:///C:/ci/click_1646038595831/work\n",
      "cloudpickle @ file:///tmp/build/80754af9/cloudpickle_1632508026186/work\n",
      "clyent==1.2.2\n",
      "colorama @ file:///tmp/build/80754af9/colorama_1607707115595/work\n",
      "colorcet @ file:///tmp/build/80754af9/colorcet_1611168489822/work\n",
      "commonmark==0.9.1\n",
      "comtypes==1.1.10\n",
      "conda==4.13.0\n",
      "conda-build==3.21.8\n",
      "conda-content-trust @ file:///tmp/build/80754af9/conda-content-trust_1617045594566/work\n",
      "conda-pack @ file:///tmp/build/80754af9/conda-pack_1611163042455/work\n",
      "conda-package-handling @ file:///C:/ci/conda-package-handling_1649106011304/work\n",
      "conda-repo-cli @ file:///tmp/build/80754af9/conda-repo-cli_1620168426516/work\n",
      "conda-token @ file:///tmp/build/80754af9/conda-token_1620076980546/work\n",
      "conda-verify==3.4.2\n",
      "constantly==15.1.0\n",
      "cookiecutter @ file:///opt/conda/conda-bld/cookiecutter_1649151442564/work\n",
      "cryptography @ file:///C:/ci/cryptography_1633520531101/work\n",
      "cssselect==1.1.0\n",
      "cycler @ file:///tmp/build/80754af9/cycler_1637851556182/work\n",
      "Cython @ file:///C:/ci/cython_1647850559892/work\n",
      "cytoolz==0.11.0\n",
      "daal4py==2021.5.0\n",
      "dash==2.6.0\n",
      "dash-core-components==2.0.0\n",
      "dash-html-components==2.0.0\n",
      "dash-table==5.0.0\n",
      "dask @ file:///opt/conda/conda-bld/dask-core_1647268715755/work\n",
      "datashader @ file:///tmp/build/80754af9/datashader_1623782308369/work\n",
      "datashape==0.5.4\n",
      "debugpy @ file:///C:/ci/debugpy_1637091961445/work\n",
      "decorator @ file:///opt/conda/conda-bld/decorator_1643638310831/work\n",
      "defusedxml @ file:///tmp/build/80754af9/defusedxml_1615228127516/work\n",
      "diff-match-patch @ file:///Users/ktietz/demo/mc3/conda-bld/diff-match-patch_1630511840874/work\n",
      "distributed @ file:///opt/conda/conda-bld/distributed_1647271944416/work\n",
      "docutils @ file:///C:/ci/docutils_1620828264669/work\n",
      "entrypoints @ file:///C:/ci/entrypoints_1649926621128/work\n",
      "et-xmlfile==1.1.0\n",
      "executing @ file:///opt/conda/conda-bld/executing_1646925071911/work\n",
      "fastjsonschema @ file:///tmp/build/80754af9/python-fastjsonschema_1620414857593/work/dist\n",
      "filelock @ file:///opt/conda/conda-bld/filelock_1647002191454/work\n",
      "flake8 @ file:///tmp/build/80754af9/flake8_1620776156532/work\n",
      "Flask @ file:///home/ktietz/src/ci/flask_1611932660458/work\n",
      "Flask-Compress==1.12\n",
      "flatbuffers==1.12\n",
      "fonttools==4.25.0\n",
      "frozenlist @ file:///C:/ci/frozenlist_1637767271796/work\n",
      "fsspec @ file:///opt/conda/conda-bld/fsspec_1647268051896/work\n",
      "future @ file:///C:/ci/future_1607568713721/work\n",
      "gast==0.4.0\n",
      "gensim @ file:///C:/ci/gensim_1646825438310/work\n",
      "gitdb==4.0.10\n",
      "GitPython==3.1.29\n",
      "glob2 @ file:///home/linux1/recipes/ci/glob2_1610991677669/work\n",
      "google-api-core @ file:///C:/ci/google-api-core-split_1613980333946/work\n",
      "google-auth @ file:///tmp/build/80754af9/google-auth_1626320605116/work\n",
      "google-auth-oauthlib==0.4.6\n",
      "google-cloud-core @ file:///tmp/build/80754af9/google-cloud-core_1625077425256/work\n",
      "google-cloud-storage @ file:///tmp/build/80754af9/google-cloud-storage_1601307969662/work\n",
      "google-crc32c @ file:///C:/ci/google-crc32c_1613234249694/work\n",
      "google-images-download==2.8.0\n",
      "google-pasta==0.2.0\n",
      "google-resumable-media @ file:///tmp/build/80754af9/google-resumable-media_1624367812531/work\n",
      "googleapis-common-protos @ file:///C:/ci/googleapis-common-protos-feedstock_1617957814607/work\n",
      "greenlet @ file:///C:/ci/greenlet_1628888275363/work\n",
      "grpcio @ file:///C:/ci/grpcio_1637590978642/work\n",
      "h5py @ file:///C:/ci/h5py_1637120894255/work\n",
      "HeapDict @ file:///Users/ktietz/demo/mc3/conda-bld/heapdict_1630598515714/work\n",
      "holoviews @ file:///opt/conda/conda-bld/holoviews_1645454331194/work\n",
      "hvplot @ file:///tmp/build/80754af9/hvplot_1627305124151/work\n",
      "hyperlink @ file:///tmp/build/80754af9/hyperlink_1610130746837/work\n",
      "idna @ file:///tmp/build/80754af9/idna_1637925883363/work\n",
      "imagecodecs @ file:///C:/ci/imagecodecs_1635511087451/work\n",
      "imageio @ file:///tmp/build/80754af9/imageio_1617700267927/work\n",
      "imagesize @ file:///tmp/build/80754af9/imagesize_1637939814114/work\n",
      "imbalanced-learn==0.11.0\n",
      "imblearn==0.0\n",
      "importlib-metadata @ file:///C:/ci/importlib-metadata_1648562621412/work\n",
      "incremental @ file:///tmp/build/80754af9/incremental_1636629750599/work\n",
      "inflection==0.5.1\n",
      "iniconfig @ file:///home/linux1/recipes/ci/iniconfig_1610983019677/work\n",
      "intake @ file:///opt/conda/conda-bld/intake_1647436631684/work\n",
      "intervaltree @ file:///Users/ktietz/demo/mc3/conda-bld/intervaltree_1630511889664/work\n",
      "ipykernel @ file:///C:/ci/ipykernel_1646982785443/work/dist/ipykernel-6.9.1-py3-none-any.whl\n",
      "ipython @ file:///C:/ci/ipython_1648817223581/work\n",
      "ipython-genutils @ file:///tmp/build/80754af9/ipython_genutils_1606773439826/work\n",
      "ipywidgets @ file:///tmp/build/80754af9/ipywidgets_1634143127070/work\n",
      "isort @ file:///tmp/build/80754af9/isort_1628603791788/work\n",
      "itemadapter @ file:///tmp/build/80754af9/itemadapter_1626442940632/work\n",
      "itemloaders @ file:///opt/conda/conda-bld/itemloaders_1646805235997/work\n",
      "itsdangerous @ file:///tmp/build/80754af9/itsdangerous_1621432558163/work\n",
      "jdcal @ file:///Users/ktietz/demo/mc3/conda-bld/jdcal_1630584345063/work\n",
      "jedi @ file:///C:/ci/jedi_1644315428289/work\n",
      "Jinja2 @ file:///tmp/build/80754af9/jinja2_1612213139570/work\n",
      "jinja2-time @ file:///opt/conda/conda-bld/jinja2-time_1649251842261/work\n",
      "jmespath @ file:///Users/ktietz/demo/mc3/conda-bld/jmespath_1630583964805/work\n",
      "joblib==1.3.1\n",
      "json5 @ file:///tmp/build/80754af9/json5_1624432770122/work\n",
      "jsonschema @ file:///C:/ci/jsonschema_1650008058050/work\n",
      "jupyter @ file:///C:/ci/jupyter_1607685287094/work\n",
      "jupyter-client @ file:///tmp/build/80754af9/jupyter_client_1616770841739/work\n",
      "jupyter-console @ file:///tmp/build/80754af9/jupyter_console_1616615302928/work\n",
      "jupyter-core @ file:///C:/ci/jupyter_core_1646994619043/work\n",
      "jupyter-server @ file:///opt/conda/conda-bld/jupyter_server_1644494914632/work\n",
      "jupyterlab @ file:///opt/conda/conda-bld/jupyterlab_1647445413472/work\n",
      "jupyterlab-pygments @ file:///tmp/build/80754af9/jupyterlab_pygments_1601490720602/work\n",
      "jupyterlab-server @ file:///opt/conda/conda-bld/jupyterlab_server_1644500396812/work\n",
      "jupyterlab-widgets @ file:///tmp/build/80754af9/jupyterlab_widgets_1609884341231/work\n",
      "keras==2.9.0\n",
      "Keras-Preprocessing==1.1.2\n",
      "keyring @ file:///C:/ci/keyring_1638531673471/work\n",
      "kiwisolver @ file:///C:/ci/kiwisolver_1644962577370/work\n",
      "lazy-object-proxy @ file:///C:/ci/lazy-object-proxy_1616529288960/work\n",
      "libarchive-c @ file:///tmp/build/80754af9/python-libarchive-c_1617780486945/work\n",
      "libclang==14.0.6\n",
      "llvmlite==0.38.0\n",
      "locket @ file:///C:/ci/locket_1647006279389/work\n",
      "lxml @ file:///C:/ci/lxml_1646642862366/work\n",
      "Markdown @ file:///C:/ci/markdown_1614364082838/work\n",
      "MarkupSafe @ file:///C:/ci/markupsafe_1621528502553/work\n",
      "matplotlib @ file:///C:/ci/matplotlib-suite_1647423638658/work\n",
      "matplotlib-inline @ file:///tmp/build/80754af9/matplotlib-inline_1628242447089/work\n",
      "mccabe==0.6.1\n",
      "menuinst @ file:///C:/ci/menuinst_1631733438520/work\n",
      "mistune @ file:///C:/ci/mistune_1607359457024/work\n",
      "mkl-fft==1.3.1\n",
      "mkl-random @ file:///C:/ci/mkl_random_1626186184308/work\n",
      "mkl-service==2.4.0\n",
      "mock @ file:///tmp/build/80754af9/mock_1607622725907/work\n",
      "mpmath==1.2.1\n",
      "msgpack @ file:///C:/ci/msgpack-python_1612287350784/work\n",
      "multidict @ file:///C:/ci/multidict_1607349747897/work\n",
      "multipledispatch @ file:///C:/ci/multipledispatch_1607574329826/work\n",
      "munkres==1.1.4\n",
      "mypy-extensions==0.4.3\n",
      "navigator-updater==0.2.1\n",
      "nbclassic @ file:///opt/conda/conda-bld/nbclassic_1644943264176/work\n",
      "nbclient @ file:///C:/ci/nbclient_1650290387259/work\n",
      "nbconvert @ file:///C:/ci/nbconvert_1649741016669/work\n",
      "nbformat @ file:///C:/ci/nbformat_1649845125000/work\n",
      "nest-asyncio @ file:///C:/ci/nest-asyncio_1649829929390/work\n",
      "networkx @ file:///opt/conda/conda-bld/networkx_1647437648384/work\n",
      "nltk @ file:///opt/conda/conda-bld/nltk_1645628263994/work\n",
      "nose @ file:///opt/conda/conda-bld/nose_1642704612149/work\n",
      "notebook @ file:///C:/ci/notebook_1645002729033/work\n",
      "numba @ file:///C:/ci/numba_1650394399948/work\n",
      "numexpr @ file:///C:/ci/numexpr_1640704337920/work\n",
      "numpy @ file:///C:/ci/numpy_and_numpy_base_1649782970434/work\n",
      "numpydoc @ file:///opt/conda/conda-bld/numpydoc_1643788541039/work\n",
      "oauthlib==3.2.0\n",
      "olefile @ file:///Users/ktietz/demo/mc3/conda-bld/olefile_1629805411829/work\n",
      "opencv-python==4.6.0.66\n",
      "openpyxl @ file:///tmp/build/80754af9/openpyxl_1632777717936/work\n",
      "opt-einsum==3.3.0\n",
      "packaging @ file:///tmp/build/80754af9/packaging_1637314298585/work\n",
      "pandas @ file:///C:/ci/pandas_1650373458095/work\n",
      "pandocfilters @ file:///opt/conda/conda-bld/pandocfilters_1643405455980/work\n",
      "panel @ file:///C:/ci/panel_1650623703033/work\n",
      "param @ file:///tmp/build/80754af9/param_1636647414893/work\n",
      "paramiko @ file:///opt/conda/conda-bld/paramiko_1640109032755/work\n",
      "parsel @ file:///C:/ci/parsel_1646740216444/work\n",
      "parso @ file:///opt/conda/conda-bld/parso_1641458642106/work\n",
      "partd @ file:///opt/conda/conda-bld/partd_1647245470509/work\n",
      "pathspec==0.7.0\n",
      "patsy==0.5.2\n",
      "pep8==1.7.1\n",
      "pexpect @ file:///tmp/build/80754af9/pexpect_1605563209008/work\n",
      "pickleshare @ file:///tmp/build/80754af9/pickleshare_1606932040724/work\n",
      "Pillow==9.0.1\n",
      "pkginfo @ file:///tmp/build/80754af9/pkginfo_1643162084911/work\n",
      "plotly @ file:///opt/conda/conda-bld/plotly_1646671701182/work\n",
      "pluggy @ file:///C:/ci/pluggy_1648024580010/work\n",
      "poyo @ file:///tmp/build/80754af9/poyo_1617751526755/work"
     ]
    }
   ],
   "source": [
    "pip freeze"
   ]
  },
  {
   "cell_type": "code",
   "execution_count": 18,
   "metadata": {
    "colab": {
     "base_uri": "https://localhost:8080/",
     "height": 299
    },
    "executionInfo": {
     "elapsed": 1152,
     "status": "ok",
     "timestamp": 1674550054748,
     "user": {
      "displayName": "Akinyomi Oluwarotimi Edmund",
      "userId": "04010171578647484774"
     },
     "user_tz": -120
    },
    "id": "aJRQuc9lITPx",
    "outputId": "cafc4faf-dd64-4077-a969-e8dc8eb292f3"
   },
   "outputs": [
    {
     "data": {
      "text/html": [
       "<div>\n",
       "<style scoped>\n",
       "    .dataframe tbody tr th:only-of-type {\n",
       "        vertical-align: middle;\n",
       "    }\n",
       "\n",
       "    .dataframe tbody tr th {\n",
       "        vertical-align: top;\n",
       "    }\n",
       "\n",
       "    .dataframe thead th {\n",
       "        text-align: right;\n",
       "    }\n",
       "</style>\n",
       "<table border=\"1\" class=\"dataframe\">\n",
       "  <thead>\n",
       "    <tr style=\"text-align: right;\">\n",
       "      <th></th>\n",
       "      <th>aluminium</th>\n",
       "      <th>ammonia</th>\n",
       "      <th>arsenic</th>\n",
       "      <th>barium</th>\n",
       "      <th>cadmium</th>\n",
       "      <th>chloramine</th>\n",
       "      <th>chromium</th>\n",
       "      <th>copper</th>\n",
       "      <th>flouride</th>\n",
       "      <th>bacteria</th>\n",
       "      <th>...</th>\n",
       "      <th>lead</th>\n",
       "      <th>nitrates</th>\n",
       "      <th>nitrites</th>\n",
       "      <th>mercury</th>\n",
       "      <th>perchlorate</th>\n",
       "      <th>radium</th>\n",
       "      <th>selenium</th>\n",
       "      <th>silver</th>\n",
       "      <th>uranium</th>\n",
       "      <th>is_safe</th>\n",
       "    </tr>\n",
       "  </thead>\n",
       "  <tbody>\n",
       "    <tr>\n",
       "      <th>0</th>\n",
       "      <td>1.65</td>\n",
       "      <td>9.08</td>\n",
       "      <td>0.04</td>\n",
       "      <td>2.85</td>\n",
       "      <td>0.007</td>\n",
       "      <td>0.35</td>\n",
       "      <td>0.83</td>\n",
       "      <td>0.17</td>\n",
       "      <td>0.05</td>\n",
       "      <td>0.20</td>\n",
       "      <td>...</td>\n",
       "      <td>0.054</td>\n",
       "      <td>16.08</td>\n",
       "      <td>1.13</td>\n",
       "      <td>0.007</td>\n",
       "      <td>37.75</td>\n",
       "      <td>6.78</td>\n",
       "      <td>0.08</td>\n",
       "      <td>0.34</td>\n",
       "      <td>0.02</td>\n",
       "      <td>1</td>\n",
       "    </tr>\n",
       "    <tr>\n",
       "      <th>1</th>\n",
       "      <td>2.32</td>\n",
       "      <td>21.16</td>\n",
       "      <td>0.01</td>\n",
       "      <td>3.31</td>\n",
       "      <td>0.002</td>\n",
       "      <td>5.28</td>\n",
       "      <td>0.68</td>\n",
       "      <td>0.66</td>\n",
       "      <td>0.90</td>\n",
       "      <td>0.65</td>\n",
       "      <td>...</td>\n",
       "      <td>0.100</td>\n",
       "      <td>2.01</td>\n",
       "      <td>1.93</td>\n",
       "      <td>0.003</td>\n",
       "      <td>32.26</td>\n",
       "      <td>3.21</td>\n",
       "      <td>0.08</td>\n",
       "      <td>0.27</td>\n",
       "      <td>0.05</td>\n",
       "      <td>1</td>\n",
       "    </tr>\n",
       "    <tr>\n",
       "      <th>2</th>\n",
       "      <td>1.01</td>\n",
       "      <td>14.02</td>\n",
       "      <td>0.04</td>\n",
       "      <td>0.58</td>\n",
       "      <td>0.008</td>\n",
       "      <td>4.24</td>\n",
       "      <td>0.53</td>\n",
       "      <td>0.02</td>\n",
       "      <td>0.99</td>\n",
       "      <td>0.05</td>\n",
       "      <td>...</td>\n",
       "      <td>0.078</td>\n",
       "      <td>14.16</td>\n",
       "      <td>1.11</td>\n",
       "      <td>0.006</td>\n",
       "      <td>50.28</td>\n",
       "      <td>7.07</td>\n",
       "      <td>0.07</td>\n",
       "      <td>0.44</td>\n",
       "      <td>0.01</td>\n",
       "      <td>0</td>\n",
       "    </tr>\n",
       "    <tr>\n",
       "      <th>3</th>\n",
       "      <td>1.36</td>\n",
       "      <td>11.33</td>\n",
       "      <td>0.04</td>\n",
       "      <td>2.96</td>\n",
       "      <td>0.001</td>\n",
       "      <td>7.23</td>\n",
       "      <td>0.03</td>\n",
       "      <td>1.66</td>\n",
       "      <td>1.08</td>\n",
       "      <td>0.71</td>\n",
       "      <td>...</td>\n",
       "      <td>0.016</td>\n",
       "      <td>1.41</td>\n",
       "      <td>1.29</td>\n",
       "      <td>0.004</td>\n",
       "      <td>9.12</td>\n",
       "      <td>1.72</td>\n",
       "      <td>0.02</td>\n",
       "      <td>0.45</td>\n",
       "      <td>0.05</td>\n",
       "      <td>1</td>\n",
       "    </tr>\n",
       "    <tr>\n",
       "      <th>4</th>\n",
       "      <td>0.92</td>\n",
       "      <td>24.33</td>\n",
       "      <td>0.03</td>\n",
       "      <td>0.20</td>\n",
       "      <td>0.006</td>\n",
       "      <td>2.67</td>\n",
       "      <td>0.69</td>\n",
       "      <td>0.57</td>\n",
       "      <td>0.61</td>\n",
       "      <td>0.13</td>\n",
       "      <td>...</td>\n",
       "      <td>0.117</td>\n",
       "      <td>6.74</td>\n",
       "      <td>1.11</td>\n",
       "      <td>0.003</td>\n",
       "      <td>16.90</td>\n",
       "      <td>2.41</td>\n",
       "      <td>0.02</td>\n",
       "      <td>0.06</td>\n",
       "      <td>0.02</td>\n",
       "      <td>1</td>\n",
       "    </tr>\n",
       "  </tbody>\n",
       "</table>\n",
       "<p>5 rows × 21 columns</p>\n",
       "</div>"
      ],
      "text/plain": [
       "   aluminium  ammonia  arsenic  barium  cadmium  chloramine  chromium  copper  \\\n",
       "0       1.65     9.08     0.04    2.85    0.007        0.35      0.83    0.17   \n",
       "1       2.32    21.16     0.01    3.31    0.002        5.28      0.68    0.66   \n",
       "2       1.01    14.02     0.04    0.58    0.008        4.24      0.53    0.02   \n",
       "3       1.36    11.33     0.04    2.96    0.001        7.23      0.03    1.66   \n",
       "4       0.92    24.33     0.03    0.20    0.006        2.67      0.69    0.57   \n",
       "\n",
       "   flouride  bacteria  ...   lead  nitrates  nitrites  mercury  perchlorate  \\\n",
       "0      0.05      0.20  ...  0.054     16.08      1.13    0.007        37.75   \n",
       "1      0.90      0.65  ...  0.100      2.01      1.93    0.003        32.26   \n",
       "2      0.99      0.05  ...  0.078     14.16      1.11    0.006        50.28   \n",
       "3      1.08      0.71  ...  0.016      1.41      1.29    0.004         9.12   \n",
       "4      0.61      0.13  ...  0.117      6.74      1.11    0.003        16.90   \n",
       "\n",
       "   radium  selenium  silver  uranium  is_safe  \n",
       "0    6.78      0.08    0.34     0.02        1  \n",
       "1    3.21      0.08    0.27     0.05        1  \n",
       "2    7.07      0.07    0.44     0.01        0  \n",
       "3    1.72      0.02    0.45     0.05        1  \n",
       "4    2.41      0.02    0.06     0.02        1  \n",
       "\n",
       "[5 rows x 21 columns]"
      ]
     },
     "execution_count": 18,
     "metadata": {},
     "output_type": "execute_result"
    }
   ],
   "source": [
    "#Read the data file and preview it\n",
    "\n",
    "OrigData = pd.read_csv(dataset_path)\n",
    "OrigData = OrigData.drop(labels=\"Unnamed: 0\", axis=1)\n",
    "OrigData.head()"
   ]
  },
  {
   "cell_type": "code",
   "execution_count": 44,
   "metadata": {},
   "outputs": [
    {
     "data": {
      "text/html": [
       "<div>\n",
       "<style scoped>\n",
       "    .dataframe tbody tr th:only-of-type {\n",
       "        vertical-align: middle;\n",
       "    }\n",
       "\n",
       "    .dataframe tbody tr th {\n",
       "        vertical-align: top;\n",
       "    }\n",
       "\n",
       "    .dataframe thead th {\n",
       "        text-align: right;\n",
       "    }\n",
       "</style>\n",
       "<table border=\"1\" class=\"dataframe\">\n",
       "  <thead>\n",
       "    <tr style=\"text-align: right;\">\n",
       "      <th>is_safe</th>\n",
       "      <th>0</th>\n",
       "      <th>1</th>\n",
       "    </tr>\n",
       "  </thead>\n",
       "  <tbody>\n",
       "    <tr>\n",
       "      <th>aluminium</th>\n",
       "      <td>0.07</td>\n",
       "      <td>1.550</td>\n",
       "    </tr>\n",
       "    <tr>\n",
       "      <th>ammonia</th>\n",
       "      <td>14.34</td>\n",
       "      <td>12.470</td>\n",
       "    </tr>\n",
       "    <tr>\n",
       "      <th>arsenic</th>\n",
       "      <td>0.06</td>\n",
       "      <td>0.030</td>\n",
       "    </tr>\n",
       "    <tr>\n",
       "      <th>barium</th>\n",
       "      <td>1.10</td>\n",
       "      <td>1.740</td>\n",
       "    </tr>\n",
       "    <tr>\n",
       "      <th>cadmium</th>\n",
       "      <td>0.04</td>\n",
       "      <td>0.006</td>\n",
       "    </tr>\n",
       "  </tbody>\n",
       "</table>\n",
       "</div>"
      ],
      "text/plain": [
       "is_safe        0       1\n",
       "aluminium   0.07   1.550\n",
       "ammonia    14.34  12.470\n",
       "arsenic     0.06   0.030\n",
       "barium      1.10   1.740\n",
       "cadmium     0.04   0.006"
      ]
     },
     "execution_count": 44,
     "metadata": {},
     "output_type": "execute_result"
    }
   ],
   "source": [
    "median_df = OrigData.groupby(\"is_safe\").median().T\n",
    "median_df.head()"
   ]
  },
  {
   "cell_type": "code",
   "execution_count": 45,
   "metadata": {},
   "outputs": [],
   "source": [
    "median_df = median_df[median_df.index.isin([\"aluminium\",\"arsenic\",\"barium\",\"cadmium\",\"chloramine\",\"chromium\",\"perchlorate\",\"silver\",\"uranium\",\"viruses\"])]"
   ]
  },
  {
   "cell_type": "code",
   "execution_count": 46,
   "metadata": {},
   "outputs": [],
   "source": [
    "median_df = median_df.sort_index(ascending=True)"
   ]
  },
  {
   "cell_type": "code",
   "execution_count": 47,
   "metadata": {},
   "outputs": [
    {
     "data": {
      "text/html": [
       "<div>\n",
       "<style scoped>\n",
       "    .dataframe tbody tr th:only-of-type {\n",
       "        vertical-align: middle;\n",
       "    }\n",
       "\n",
       "    .dataframe tbody tr th {\n",
       "        vertical-align: top;\n",
       "    }\n",
       "\n",
       "    .dataframe thead th {\n",
       "        text-align: right;\n",
       "    }\n",
       "</style>\n",
       "<table border=\"1\" class=\"dataframe\">\n",
       "  <thead>\n",
       "    <tr style=\"text-align: right;\">\n",
       "      <th>is_safe</th>\n",
       "      <th>0</th>\n",
       "      <th>1</th>\n",
       "    </tr>\n",
       "  </thead>\n",
       "  <tbody>\n",
       "    <tr>\n",
       "      <th>aluminium</th>\n",
       "      <td>0.070</td>\n",
       "      <td>1.550</td>\n",
       "    </tr>\n",
       "    <tr>\n",
       "      <th>arsenic</th>\n",
       "      <td>0.060</td>\n",
       "      <td>0.030</td>\n",
       "    </tr>\n",
       "    <tr>\n",
       "      <th>barium</th>\n",
       "      <td>1.100</td>\n",
       "      <td>1.740</td>\n",
       "    </tr>\n",
       "    <tr>\n",
       "      <th>cadmium</th>\n",
       "      <td>0.040</td>\n",
       "      <td>0.006</td>\n",
       "    </tr>\n",
       "    <tr>\n",
       "      <th>chloramine</th>\n",
       "      <td>0.410</td>\n",
       "      <td>3.435</td>\n",
       "    </tr>\n",
       "    <tr>\n",
       "      <th>chromium</th>\n",
       "      <td>0.080</td>\n",
       "      <td>0.360</td>\n",
       "    </tr>\n",
       "    <tr>\n",
       "      <th>perchlorate</th>\n",
       "      <td>6.785</td>\n",
       "      <td>18.160</td>\n",
       "    </tr>\n",
       "    <tr>\n",
       "      <th>silver</th>\n",
       "      <td>0.080</td>\n",
       "      <td>0.130</td>\n",
       "    </tr>\n",
       "    <tr>\n",
       "      <th>uranium</th>\n",
       "      <td>0.050</td>\n",
       "      <td>0.030</td>\n",
       "    </tr>\n",
       "    <tr>\n",
       "      <th>viruses</th>\n",
       "      <td>0.008</td>\n",
       "      <td>0.005</td>\n",
       "    </tr>\n",
       "  </tbody>\n",
       "</table>\n",
       "</div>"
      ],
      "text/plain": [
       "is_safe          0       1\n",
       "aluminium    0.070   1.550\n",
       "arsenic      0.060   0.030\n",
       "barium       1.100   1.740\n",
       "cadmium      0.040   0.006\n",
       "chloramine   0.410   3.435\n",
       "chromium     0.080   0.360\n",
       "perchlorate  6.785  18.160\n",
       "silver       0.080   0.130\n",
       "uranium      0.050   0.030\n",
       "viruses      0.008   0.005"
      ]
     },
     "execution_count": 47,
     "metadata": {},
     "output_type": "execute_result"
    }
   ],
   "source": [
    "median_df"
   ]
  },
  {
   "cell_type": "code",
   "execution_count": 29,
   "metadata": {},
   "outputs": [
    {
     "ename": "TypeError",
     "evalue": "filter() got an unexpected keyword argument 'columns'",
     "output_type": "error",
     "traceback": [
      "\u001b[1;31m---------------------------------------------------------------------------\u001b[0m",
      "\u001b[1;31mTypeError\u001b[0m                                 Traceback (most recent call last)",
      "Input \u001b[1;32mIn [29]\u001b[0m, in \u001b[0;36m<cell line: 1>\u001b[1;34m()\u001b[0m\n\u001b[1;32m----> 1\u001b[0m median_df \u001b[38;5;241m=\u001b[39m \u001b[43mmedian_df\u001b[49m\u001b[38;5;241;43m.\u001b[39;49m\u001b[43mfilter\u001b[49m\u001b[43m(\u001b[49m\u001b[43mitems\u001b[49m\u001b[38;5;241;43m=\u001b[39;49m\u001b[43m[\u001b[49m\u001b[38;5;124;43m\"\u001b[39;49m\u001b[38;5;124;43maluminum\u001b[39;49m\u001b[38;5;124;43m\"\u001b[39;49m\u001b[43m,\u001b[49m\u001b[38;5;124;43m\"\u001b[39;49m\u001b[38;5;124;43marsenic\u001b[39;49m\u001b[38;5;124;43m\"\u001b[39;49m\u001b[43m,\u001b[49m\u001b[38;5;124;43m\"\u001b[39;49m\u001b[38;5;124;43mbarium\u001b[39;49m\u001b[38;5;124;43m\"\u001b[39;49m\u001b[43m,\u001b[49m\u001b[38;5;124;43m\"\u001b[39;49m\u001b[38;5;124;43mcadmium\u001b[39;49m\u001b[38;5;124;43m\"\u001b[39;49m\u001b[43m,\u001b[49m\u001b[38;5;124;43m\"\u001b[39;49m\u001b[38;5;124;43mchloramine\u001b[39;49m\u001b[38;5;124;43m\"\u001b[39;49m\u001b[43m,\u001b[49m\u001b[38;5;124;43m\"\u001b[39;49m\u001b[38;5;124;43mchromium\u001b[39;49m\u001b[38;5;124;43m\"\u001b[39;49m\u001b[43m,\u001b[49m\u001b[38;5;124;43m\"\u001b[39;49m\u001b[38;5;124;43mperchlorate\u001b[39;49m\u001b[38;5;124;43m\"\u001b[39;49m\u001b[43m,\u001b[49m\u001b[38;5;124;43m\"\u001b[39;49m\u001b[38;5;124;43msilver\u001b[39;49m\u001b[38;5;124;43m\"\u001b[39;49m\u001b[43m,\u001b[49m\u001b[38;5;124;43m\"\u001b[39;49m\u001b[38;5;124;43muranium\u001b[39;49m\u001b[38;5;124;43m\"\u001b[39;49m\u001b[43m,\u001b[49m\u001b[38;5;124;43m\"\u001b[39;49m\u001b[38;5;124;43mviruses\u001b[39;49m\u001b[38;5;124;43m\"\u001b[39;49m\u001b[43m]\u001b[49m\u001b[43m,\u001b[49m\u001b[43mcolumns\u001b[49m\u001b[43m \u001b[49m\u001b[38;5;241;43m=\u001b[39;49m\u001b[43m \u001b[49m\u001b[43m[\u001b[49m\u001b[38;5;241;43m0\u001b[39;49m\u001b[43m,\u001b[49m\u001b[38;5;241;43m1\u001b[39;49m\u001b[43m]\u001b[49m\u001b[43m,\u001b[49m\u001b[43maxis\u001b[49m\u001b[38;5;241;43m=\u001b[39;49m\u001b[38;5;241;43m0\u001b[39;49m\u001b[43m)\u001b[49m\n",
      "\u001b[1;31mTypeError\u001b[0m: filter() got an unexpected keyword argument 'columns'"
     ]
    }
   ],
   "source": [
    "median_df = median_df.filter(items=[\"aluminum\",\"arsenic\",\"barium\",\"cadmium\",\"chloramine\",\"chromium\",\"perchlorate\",\"silver\",\"uranium\",\"viruses\"],columns = [0,1],axis=0)"
   ]
  },
  {
   "cell_type": "code",
   "execution_count": 28,
   "metadata": {},
   "outputs": [
    {
     "data": {
      "text/html": [
       "<div>\n",
       "<style scoped>\n",
       "    .dataframe tbody tr th:only-of-type {\n",
       "        vertical-align: middle;\n",
       "    }\n",
       "\n",
       "    .dataframe tbody tr th {\n",
       "        vertical-align: top;\n",
       "    }\n",
       "\n",
       "    .dataframe thead th {\n",
       "        text-align: right;\n",
       "    }\n",
       "</style>\n",
       "<table border=\"1\" class=\"dataframe\">\n",
       "  <thead>\n",
       "    <tr style=\"text-align: right;\">\n",
       "      <th>is_safe</th>\n",
       "    </tr>\n",
       "  </thead>\n",
       "  <tbody>\n",
       "    <tr>\n",
       "      <th>arsenic</th>\n",
       "    </tr>\n",
       "    <tr>\n",
       "      <th>barium</th>\n",
       "    </tr>\n",
       "    <tr>\n",
       "      <th>cadmium</th>\n",
       "    </tr>\n",
       "    <tr>\n",
       "      <th>chloramine</th>\n",
       "    </tr>\n",
       "    <tr>\n",
       "      <th>chromium</th>\n",
       "    </tr>\n",
       "  </tbody>\n",
       "</table>\n",
       "</div>"
      ],
      "text/plain": [
       "Empty DataFrame\n",
       "Columns: []\n",
       "Index: [arsenic, barium, cadmium, chloramine, chromium]"
      ]
     },
     "execution_count": 28,
     "metadata": {},
     "output_type": "execute_result"
    }
   ],
   "source": [
    "median_df.head()"
   ]
  },
  {
   "cell_type": "code",
   "execution_count": 13,
   "metadata": {
    "colab": {
     "base_uri": "https://localhost:8080/",
     "height": 364
    },
    "executionInfo": {
     "elapsed": 413,
     "status": "ok",
     "timestamp": 1674550057903,
     "user": {
      "displayName": "Akinyomi Oluwarotimi Edmund",
      "userId": "04010171578647484774"
     },
     "user_tz": -120
    },
    "id": "dVodqpFtKK5O",
    "outputId": "affa958a-15c7-4638-c339-d650af3c93d4"
   },
   "outputs": [
    {
     "data": {
      "text/html": [
       "<div>\n",
       "<style scoped>\n",
       "    .dataframe tbody tr th:only-of-type {\n",
       "        vertical-align: middle;\n",
       "    }\n",
       "\n",
       "    .dataframe tbody tr th {\n",
       "        vertical-align: top;\n",
       "    }\n",
       "\n",
       "    .dataframe thead th {\n",
       "        text-align: right;\n",
       "    }\n",
       "</style>\n",
       "<table border=\"1\" class=\"dataframe\">\n",
       "  <thead>\n",
       "    <tr style=\"text-align: right;\">\n",
       "      <th></th>\n",
       "      <th>Unnamed: 0</th>\n",
       "      <th>aluminium</th>\n",
       "      <th>ammonia</th>\n",
       "      <th>arsenic</th>\n",
       "      <th>barium</th>\n",
       "      <th>cadmium</th>\n",
       "      <th>chloramine</th>\n",
       "      <th>chromium</th>\n",
       "      <th>copper</th>\n",
       "      <th>flouride</th>\n",
       "      <th>...</th>\n",
       "      <th>lead</th>\n",
       "      <th>nitrates</th>\n",
       "      <th>nitrites</th>\n",
       "      <th>mercury</th>\n",
       "      <th>perchlorate</th>\n",
       "      <th>radium</th>\n",
       "      <th>selenium</th>\n",
       "      <th>silver</th>\n",
       "      <th>uranium</th>\n",
       "      <th>is_safe</th>\n",
       "    </tr>\n",
       "  </thead>\n",
       "  <tbody>\n",
       "    <tr>\n",
       "      <th>count</th>\n",
       "      <td>7996.000000</td>\n",
       "      <td>7996.000000</td>\n",
       "      <td>7996.000000</td>\n",
       "      <td>7996.000000</td>\n",
       "      <td>7996.000000</td>\n",
       "      <td>7996.000000</td>\n",
       "      <td>7996.000000</td>\n",
       "      <td>7996.000000</td>\n",
       "      <td>7996.000000</td>\n",
       "      <td>7996.000000</td>\n",
       "      <td>...</td>\n",
       "      <td>7996.000000</td>\n",
       "      <td>7996.000000</td>\n",
       "      <td>7996.000000</td>\n",
       "      <td>7996.000000</td>\n",
       "      <td>7996.000000</td>\n",
       "      <td>7996.000000</td>\n",
       "      <td>7996.000000</td>\n",
       "      <td>7996.000000</td>\n",
       "      <td>7996.000000</td>\n",
       "      <td>7996.000000</td>\n",
       "    </tr>\n",
       "    <tr>\n",
       "      <th>mean</th>\n",
       "      <td>3997.622811</td>\n",
       "      <td>0.666396</td>\n",
       "      <td>14.278212</td>\n",
       "      <td>0.161477</td>\n",
       "      <td>1.567928</td>\n",
       "      <td>0.042803</td>\n",
       "      <td>2.177589</td>\n",
       "      <td>0.247300</td>\n",
       "      <td>0.805940</td>\n",
       "      <td>0.771646</td>\n",
       "      <td>...</td>\n",
       "      <td>0.099431</td>\n",
       "      <td>9.819250</td>\n",
       "      <td>1.329846</td>\n",
       "      <td>0.005193</td>\n",
       "      <td>16.465266</td>\n",
       "      <td>2.920106</td>\n",
       "      <td>0.049684</td>\n",
       "      <td>0.147811</td>\n",
       "      <td>0.044672</td>\n",
       "      <td>0.114057</td>\n",
       "    </tr>\n",
       "    <tr>\n",
       "      <th>std</th>\n",
       "      <td>2308.592821</td>\n",
       "      <td>1.265323</td>\n",
       "      <td>8.878930</td>\n",
       "      <td>0.252632</td>\n",
       "      <td>1.216227</td>\n",
       "      <td>0.036049</td>\n",
       "      <td>2.567210</td>\n",
       "      <td>0.270663</td>\n",
       "      <td>0.653595</td>\n",
       "      <td>0.435423</td>\n",
       "      <td>...</td>\n",
       "      <td>0.058169</td>\n",
       "      <td>5.541977</td>\n",
       "      <td>0.573271</td>\n",
       "      <td>0.002967</td>\n",
       "      <td>17.688827</td>\n",
       "      <td>2.322805</td>\n",
       "      <td>0.028773</td>\n",
       "      <td>0.143569</td>\n",
       "      <td>0.026906</td>\n",
       "      <td>0.317900</td>\n",
       "    </tr>\n",
       "    <tr>\n",
       "      <th>min</th>\n",
       "      <td>0.000000</td>\n",
       "      <td>0.000000</td>\n",
       "      <td>-0.080000</td>\n",
       "      <td>0.000000</td>\n",
       "      <td>0.000000</td>\n",
       "      <td>0.000000</td>\n",
       "      <td>0.000000</td>\n",
       "      <td>0.000000</td>\n",
       "      <td>0.000000</td>\n",
       "      <td>0.000000</td>\n",
       "      <td>...</td>\n",
       "      <td>0.000000</td>\n",
       "      <td>0.000000</td>\n",
       "      <td>0.000000</td>\n",
       "      <td>0.000000</td>\n",
       "      <td>0.000000</td>\n",
       "      <td>0.000000</td>\n",
       "      <td>0.000000</td>\n",
       "      <td>0.000000</td>\n",
       "      <td>0.000000</td>\n",
       "      <td>0.000000</td>\n",
       "    </tr>\n",
       "    <tr>\n",
       "      <th>25%</th>\n",
       "      <td>1998.750000</td>\n",
       "      <td>0.040000</td>\n",
       "      <td>6.577500</td>\n",
       "      <td>0.030000</td>\n",
       "      <td>0.560000</td>\n",
       "      <td>0.008000</td>\n",
       "      <td>0.100000</td>\n",
       "      <td>0.050000</td>\n",
       "      <td>0.090000</td>\n",
       "      <td>0.407500</td>\n",
       "      <td>...</td>\n",
       "      <td>0.048000</td>\n",
       "      <td>5.000000</td>\n",
       "      <td>1.000000</td>\n",
       "      <td>0.003000</td>\n",
       "      <td>2.170000</td>\n",
       "      <td>0.820000</td>\n",
       "      <td>0.020000</td>\n",
       "      <td>0.040000</td>\n",
       "      <td>0.020000</td>\n",
       "      <td>0.000000</td>\n",
       "    </tr>\n",
       "    <tr>\n",
       "      <th>50%</th>\n",
       "      <td>3997.500000</td>\n",
       "      <td>0.070000</td>\n",
       "      <td>14.130000</td>\n",
       "      <td>0.050000</td>\n",
       "      <td>1.190000</td>\n",
       "      <td>0.040000</td>\n",
       "      <td>0.530000</td>\n",
       "      <td>0.090000</td>\n",
       "      <td>0.750000</td>\n",
       "      <td>0.770000</td>\n",
       "      <td>...</td>\n",
       "      <td>0.102000</td>\n",
       "      <td>9.930000</td>\n",
       "      <td>1.420000</td>\n",
       "      <td>0.005000</td>\n",
       "      <td>7.745000</td>\n",
       "      <td>2.410000</td>\n",
       "      <td>0.050000</td>\n",
       "      <td>0.080000</td>\n",
       "      <td>0.050000</td>\n",
       "      <td>0.000000</td>\n",
       "    </tr>\n",
       "    <tr>\n",
       "      <th>75%</th>\n",
       "      <td>5996.250000</td>\n",
       "      <td>0.280000</td>\n",
       "      <td>22.132500</td>\n",
       "      <td>0.100000</td>\n",
       "      <td>2.482500</td>\n",
       "      <td>0.070000</td>\n",
       "      <td>4.240000</td>\n",
       "      <td>0.440000</td>\n",
       "      <td>1.390000</td>\n",
       "      <td>1.160000</td>\n",
       "      <td>...</td>\n",
       "      <td>0.151000</td>\n",
       "      <td>14.610000</td>\n",
       "      <td>1.760000</td>\n",
       "      <td>0.008000</td>\n",
       "      <td>29.487500</td>\n",
       "      <td>4.670000</td>\n",
       "      <td>0.070000</td>\n",
       "      <td>0.240000</td>\n",
       "      <td>0.070000</td>\n",
       "      <td>0.000000</td>\n",
       "    </tr>\n",
       "    <tr>\n",
       "      <th>max</th>\n",
       "      <td>7998.000000</td>\n",
       "      <td>5.050000</td>\n",
       "      <td>29.840000</td>\n",
       "      <td>1.050000</td>\n",
       "      <td>4.940000</td>\n",
       "      <td>0.130000</td>\n",
       "      <td>8.680000</td>\n",
       "      <td>0.900000</td>\n",
       "      <td>2.000000</td>\n",
       "      <td>1.500000</td>\n",
       "      <td>...</td>\n",
       "      <td>0.200000</td>\n",
       "      <td>19.830000</td>\n",
       "      <td>2.930000</td>\n",
       "      <td>0.010000</td>\n",
       "      <td>60.010000</td>\n",
       "      <td>7.990000</td>\n",
       "      <td>0.100000</td>\n",
       "      <td>0.500000</td>\n",
       "      <td>0.090000</td>\n",
       "      <td>1.000000</td>\n",
       "    </tr>\n",
       "  </tbody>\n",
       "</table>\n",
       "<p>8 rows × 22 columns</p>\n",
       "</div>"
      ],
      "text/plain": [
       "        Unnamed: 0    aluminium      ammonia      arsenic       barium  \\\n",
       "count  7996.000000  7996.000000  7996.000000  7996.000000  7996.000000   \n",
       "mean   3997.622811     0.666396    14.278212     0.161477     1.567928   \n",
       "std    2308.592821     1.265323     8.878930     0.252632     1.216227   \n",
       "min       0.000000     0.000000    -0.080000     0.000000     0.000000   \n",
       "25%    1998.750000     0.040000     6.577500     0.030000     0.560000   \n",
       "50%    3997.500000     0.070000    14.130000     0.050000     1.190000   \n",
       "75%    5996.250000     0.280000    22.132500     0.100000     2.482500   \n",
       "max    7998.000000     5.050000    29.840000     1.050000     4.940000   \n",
       "\n",
       "           cadmium   chloramine     chromium       copper     flouride  ...  \\\n",
       "count  7996.000000  7996.000000  7996.000000  7996.000000  7996.000000  ...   \n",
       "mean      0.042803     2.177589     0.247300     0.805940     0.771646  ...   \n",
       "std       0.036049     2.567210     0.270663     0.653595     0.435423  ...   \n",
       "min       0.000000     0.000000     0.000000     0.000000     0.000000  ...   \n",
       "25%       0.008000     0.100000     0.050000     0.090000     0.407500  ...   \n",
       "50%       0.040000     0.530000     0.090000     0.750000     0.770000  ...   \n",
       "75%       0.070000     4.240000     0.440000     1.390000     1.160000  ...   \n",
       "max       0.130000     8.680000     0.900000     2.000000     1.500000  ...   \n",
       "\n",
       "              lead     nitrates     nitrites      mercury  perchlorate  \\\n",
       "count  7996.000000  7996.000000  7996.000000  7996.000000  7996.000000   \n",
       "mean      0.099431     9.819250     1.329846     0.005193    16.465266   \n",
       "std       0.058169     5.541977     0.573271     0.002967    17.688827   \n",
       "min       0.000000     0.000000     0.000000     0.000000     0.000000   \n",
       "25%       0.048000     5.000000     1.000000     0.003000     2.170000   \n",
       "50%       0.102000     9.930000     1.420000     0.005000     7.745000   \n",
       "75%       0.151000    14.610000     1.760000     0.008000    29.487500   \n",
       "max       0.200000    19.830000     2.930000     0.010000    60.010000   \n",
       "\n",
       "            radium     selenium       silver      uranium      is_safe  \n",
       "count  7996.000000  7996.000000  7996.000000  7996.000000  7996.000000  \n",
       "mean      2.920106     0.049684     0.147811     0.044672     0.114057  \n",
       "std       2.322805     0.028773     0.143569     0.026906     0.317900  \n",
       "min       0.000000     0.000000     0.000000     0.000000     0.000000  \n",
       "25%       0.820000     0.020000     0.040000     0.020000     0.000000  \n",
       "50%       2.410000     0.050000     0.080000     0.050000     0.000000  \n",
       "75%       4.670000     0.070000     0.240000     0.070000     0.000000  \n",
       "max       7.990000     0.100000     0.500000     0.090000     1.000000  \n",
       "\n",
       "[8 rows x 22 columns]"
      ]
     },
     "execution_count": 13,
     "metadata": {},
     "output_type": "execute_result"
    }
   ],
   "source": [
    "#Perform data exploration\n",
    "\n",
    "OrigData.describe()"
   ]
  },
  {
   "cell_type": "code",
   "execution_count": 14,
   "metadata": {
    "colab": {
     "base_uri": "https://localhost:8080/"
    },
    "executionInfo": {
     "elapsed": 385,
     "status": "ok",
     "timestamp": 1674550063588,
     "user": {
      "displayName": "Akinyomi Oluwarotimi Edmund",
      "userId": "04010171578647484774"
     },
     "user_tz": -120
    },
    "id": "emrviCdtLqCW",
    "outputId": "37fe17b9-1bb8-4c6c-beba-7c14610bda7b"
   },
   "outputs": [
    {
     "name": "stdout",
     "output_type": "stream",
     "text": [
      "<class 'pandas.core.frame.DataFrame'>\n",
      "RangeIndex: 7996 entries, 0 to 7995\n",
      "Data columns (total 22 columns):\n",
      " #   Column       Non-Null Count  Dtype  \n",
      "---  ------       --------------  -----  \n",
      " 0   Unnamed: 0   7996 non-null   int64  \n",
      " 1   aluminium    7996 non-null   float64\n",
      " 2   ammonia      7996 non-null   float64\n",
      " 3   arsenic      7996 non-null   float64\n",
      " 4   barium       7996 non-null   float64\n",
      " 5   cadmium      7996 non-null   float64\n",
      " 6   chloramine   7996 non-null   float64\n",
      " 7   chromium     7996 non-null   float64\n",
      " 8   copper       7996 non-null   float64\n",
      " 9   flouride     7996 non-null   float64\n",
      " 10  bacteria     7996 non-null   float64\n",
      " 11  viruses      7996 non-null   float64\n",
      " 12  lead         7996 non-null   float64\n",
      " 13  nitrates     7996 non-null   float64\n",
      " 14  nitrites     7996 non-null   float64\n",
      " 15  mercury      7996 non-null   float64\n",
      " 16  perchlorate  7996 non-null   float64\n",
      " 17  radium       7996 non-null   float64\n",
      " 18  selenium     7996 non-null   float64\n",
      " 19  silver       7996 non-null   float64\n",
      " 20  uranium      7996 non-null   float64\n",
      " 21  is_safe      7996 non-null   int64  \n",
      "dtypes: float64(20), int64(2)\n",
      "memory usage: 1.3 MB\n"
     ]
    }
   ],
   "source": [
    "#Get data info\n",
    "\n",
    "OrigData.info()"
   ]
  },
  {
   "cell_type": "code",
   "execution_count": 9,
   "metadata": {
    "id": "VgfQ2dlGL9QY"
   },
   "outputs": [],
   "source": [
    "#Note: All fields are not null. However, the ammonia and is_safe features are of type object.\n",
    "# To handle the non-numeric values, we can use the \"to_numeric\" function and convert them to Null first.\n",
    "OrigData['ammonia'] = pd.to_numeric(OrigData['ammonia'], errors='coerce')"
   ]
  },
  {
   "cell_type": "code",
   "execution_count": 18,
   "metadata": {
    "colab": {
     "base_uri": "https://localhost:8080/"
    },
    "executionInfo": {
     "elapsed": 673,
     "status": "ok",
     "timestamp": 1674550066743,
     "user": {
      "displayName": "Akinyomi Oluwarotimi Edmund",
      "userId": "04010171578647484774"
     },
     "user_tz": -120
    },
    "id": "lnWB7DpsMV5j",
    "outputId": "e893f221-4e08-4f98-fc67-f214820ec916"
   },
   "outputs": [
    {
     "data": {
      "text/plain": [
       "3"
      ]
     },
     "execution_count": 18,
     "metadata": {},
     "output_type": "execute_result"
    }
   ],
   "source": [
    "#Get number of row affected in ammonia column\n",
    "OrigData['ammonia'].isnull().sum()"
   ]
  },
  {
   "cell_type": "code",
   "execution_count": 19,
   "metadata": {
    "id": "0eYCiOxJMq6i"
   },
   "outputs": [],
   "source": [
    "#Drop non-numeric rows found in [19] for ammonia column\n",
    "OrigData.dropna(subset=['ammonia'], inplace=True)"
   ]
  },
  {
   "cell_type": "code",
   "execution_count": 20,
   "metadata": {
    "colab": {
     "base_uri": "https://localhost:8080/"
    },
    "executionInfo": {
     "elapsed": 12,
     "status": "ok",
     "timestamp": 1674550068085,
     "user": {
      "displayName": "Akinyomi Oluwarotimi Edmund",
      "userId": "04010171578647484774"
     },
     "user_tz": -120
    },
    "id": "H8zOAYINM5Hs",
    "outputId": "908213fe-4f90-47ac-dea6-8a78dcf1a917"
   },
   "outputs": [
    {
     "data": {
      "text/plain": [
       "0"
      ]
     },
     "execution_count": 20,
     "metadata": {},
     "output_type": "execute_result"
    }
   ],
   "source": [
    "#Repeat step [19] for is_safe col but not affect row is found\n",
    "OrigData['is_safe'] = pd.to_numeric(OrigData['is_safe'], errors='coerce')\n",
    "OrigData['is_safe'].isnull().sum()"
   ]
  },
  {
   "cell_type": "code",
   "execution_count": 15,
   "metadata": {
    "colab": {
     "base_uri": "https://localhost:8080/"
    },
    "executionInfo": {
     "elapsed": 6,
     "status": "ok",
     "timestamp": 1674550071245,
     "user": {
      "displayName": "Akinyomi Oluwarotimi Edmund",
      "userId": "04010171578647484774"
     },
     "user_tz": -120
    },
    "id": "0EFV1mWbNR46",
    "outputId": "162a75da-32ad-41d8-c850-f494289948c7"
   },
   "outputs": [
    {
     "name": "stdout",
     "output_type": "stream",
     "text": [
      "<class 'pandas.core.frame.DataFrame'>\n",
      "RangeIndex: 7996 entries, 0 to 7995\n",
      "Data columns (total 22 columns):\n",
      " #   Column       Non-Null Count  Dtype  \n",
      "---  ------       --------------  -----  \n",
      " 0   Unnamed: 0   7996 non-null   int64  \n",
      " 1   aluminium    7996 non-null   float64\n",
      " 2   ammonia      7996 non-null   float64\n",
      " 3   arsenic      7996 non-null   float64\n",
      " 4   barium       7996 non-null   float64\n",
      " 5   cadmium      7996 non-null   float64\n",
      " 6   chloramine   7996 non-null   float64\n",
      " 7   chromium     7996 non-null   float64\n",
      " 8   copper       7996 non-null   float64\n",
      " 9   flouride     7996 non-null   float64\n",
      " 10  bacteria     7996 non-null   float64\n",
      " 11  viruses      7996 non-null   float64\n",
      " 12  lead         7996 non-null   float64\n",
      " 13  nitrates     7996 non-null   float64\n",
      " 14  nitrites     7996 non-null   float64\n",
      " 15  mercury      7996 non-null   float64\n",
      " 16  perchlorate  7996 non-null   float64\n",
      " 17  radium       7996 non-null   float64\n",
      " 18  selenium     7996 non-null   float64\n",
      " 19  silver       7996 non-null   float64\n",
      " 20  uranium      7996 non-null   float64\n",
      " 21  is_safe      7996 non-null   int64  \n",
      "dtypes: float64(20), int64(2)\n",
      "memory usage: 1.3 MB\n"
     ]
    }
   ],
   "source": [
    "# Recheck the dataset info after step [18-22]. Object format is now fixed\n",
    "OrigData.info()"
   ]
  },
  {
   "cell_type": "code",
   "execution_count": 22,
   "metadata": {
    "colab": {
     "base_uri": "https://localhost:8080/",
     "height": 279
    },
    "executionInfo": {
     "elapsed": 451,
     "status": "ok",
     "timestamp": 1674550653975,
     "user": {
      "displayName": "Akinyomi Oluwarotimi Edmund",
      "userId": "04010171578647484774"
     },
     "user_tz": -120
    },
    "id": "w2K1BHHqNpO2",
    "outputId": "d987e582-adaf-40ab-c4a1-041a1e553003"
   },
   "outputs": [
    {
     "data": {
      "text/plain": [
       "<AxesSubplot:>"
      ]
     },
     "execution_count": 22,
     "metadata": {},
     "output_type": "execute_result"
    },
    {
     "data": {
      "image/png": "[encoded data removed]",
      "text/plain": [
       "<Figure size 432x288 with 1 Axes>"
      ]
     },
     "metadata": {
      "needs_background": "light"
     },
     "output_type": "display_data"
    }
   ],
   "source": [
    "# Calculate the number of records in each class that is those that are unsafe and safe for drinking; this gives an idea\n",
    "# if the classes are balanced or not.\n",
    "\n",
    "OrigData['is_safe'].value_counts().plot.bar()"
   ]
  },
  {
   "cell_type": "code",
   "execution_count": 23,
   "metadata": {
    "colab": {
     "base_uri": "https://localhost:8080/",
     "height": 751
    },
    "executionInfo": {
     "elapsed": 4845,
     "status": "ok",
     "timestamp": 1674550112922,
     "user": {
      "displayName": "Akinyomi Oluwarotimi Edmund",
      "userId": "04010171578647484774"
     },
     "user_tz": -120
    },
    "id": "tbk67SJsPmwg",
    "outputId": "2fbba150-d8e2-4235-d9db-1e56c1d3e3bc"
   },
   "outputs": [
    {
     "data": {
      "image/png": "[encoded data removed]",
      "text/plain": [
       "<Figure size 1152x864 with 2 Axes>"
      ]
     },
     "metadata": {
      "needs_background": "light"
     },
     "output_type": "display_data"
    }
   ],
   "source": [
    "# Check the feature relation and their relation to the response variable\n",
    "corr_mat = OrigData.corr()\n",
    "plt.figure(figsize=(16,12))\n",
    "# Create a custom diverging palette\n",
    "cmap = sns.diverging_palette(250, 15, s=75, l=40,\n",
    "                             n=9, center=\"light\", as_cmap=True)\n",
    "\n",
    "_ = sns.heatmap(corr_mat, center=0, annot=True,\n",
    "                fmt='.2f', square=True, cmap=cmap)"
   ]
  },
  {
   "cell_type": "code",
   "execution_count": 24,
   "metadata": {
    "colab": {
     "base_uri": "https://localhost:8080/",
     "height": 352
    },
    "executionInfo": {
     "elapsed": 498,
     "status": "ok",
     "timestamp": 1674550444898,
     "user": {
      "displayName": "Akinyomi Oluwarotimi Edmund",
      "userId": "04010171578647484774"
     },
     "user_tz": -120
    },
    "id": "yEF1dLyyX_su",
    "outputId": "aa121c43-cae8-491b-908d-57b9b156e9ae"
   },
   "outputs": [
    {
     "name": "stderr",
     "output_type": "stream",
     "text": [
      "C:\\Users\\user\\anaconda3\\lib\\site-packages\\seaborn\\distributions.py:2619: FutureWarning: `distplot` is a deprecated function and will be removed in a future version. Please adapt your code to use either `displot` (a figure-level function with similar flexibility) or `histplot` (an axes-level function for histograms).\n",
      "  warnings.warn(msg, FutureWarning)\n"
     ]
    },
    {
     "data": {
      "text/plain": [
       "<AxesSubplot:xlabel='is_safe', ylabel='Density'>"
      ]
     },
     "execution_count": 24,
     "metadata": {},
     "output_type": "execute_result"
    },
    {
     "data": {
      "image/png": "[encoded data removed]",
      "text/plain": [
       "<Figure size 432x288 with 1 Axes>"
      ]
     },
     "metadata": {
      "needs_background": "light"
     },
     "output_type": "display_data"
    }
   ],
   "source": [
    "# Distplot of WQ is_safe parameter\n",
    "\n",
    "sns.distplot(OrigData['is_safe'])"
   ]
  },
  {
   "cell_type": "code",
   "execution_count": 25,
   "metadata": {
    "colab": {
     "base_uri": "https://localhost:8080/",
     "height": 825
    },
    "executionInfo": {
     "elapsed": 3520,
     "status": "ok",
     "timestamp": 1674550514095,
     "user": {
      "displayName": "Akinyomi Oluwarotimi Edmund",
      "userId": "04010171578647484774"
     },
     "user_tz": -120
    },
    "id": "8gdsWC3xWfvR",
    "outputId": "23b3e714-d6a4-4a5a-bc78-be9a31917698"
   },
   "outputs": [
    {
     "data": {
      "image/png": "[encoded data removed]",
      "text/plain": [
       "<Figure size 1008x1008 with 25 Axes>"
      ]
     },
     "metadata": {
      "needs_background": "light"
     },
     "output_type": "display_data"
    }
   ],
   "source": [
    "# Histogram of all parameter\n",
    "OrigData.hist(figsize=(14,14))\n",
    "plt.show()"
   ]
  },
  {
   "cell_type": "code",
   "execution_count": 26,
   "metadata": {
    "id": "5IZ4i7SpPzjR"
   },
   "outputs": [],
   "source": [
    "# separate the feature columns from the response column and create the train, validate and test sets\n",
    "\n",
    "y = OrigData['is_safe']\n",
    "X = OrigData.drop('is_safe', axis=1)\n",
    "X_train, X_test, y_train, y_test = train_test_split(X, y, stratify=y,test_size=0.2, random_state=100)"
   ]
  },
  {
   "cell_type": "code",
   "execution_count": 27,
   "metadata": {
    "id": "j0naH6crDd5x"
   },
   "outputs": [],
   "source": [
    "RF_weighted = RandomForestClassifier(n_estimators=25, max_leaf_nodes=20, random_state=100)\n",
    "RF_weighted.fit(X_train, y_train)\n",
    "PredRFWeighted = RF_weighted.predict(X_test)\n",
    "PredProbRFWeighted = RF_weighted.predict_proba(X_test)"
   ]
  },
  {
   "cell_type": "code",
   "execution_count": 28,
   "metadata": {
    "colab": {
     "base_uri": "https://localhost:8080/"
    },
    "executionInfo": {
     "elapsed": 390,
     "status": "ok",
     "timestamp": 1674501642229,
     "user": {
      "displayName": "Akinyomi Oluwarotimi Edmund",
      "userId": "04010171578647484774"
     },
     "user_tz": -120
    },
    "id": "5kMdIsgDEnEd",
    "outputId": "9df468b7-e195-4fd5-dc6c-3fc8599f1157"
   },
   "outputs": [
    {
     "name": "stdout",
     "output_type": "stream",
     "text": [
      "The Results of the Random Forest Classifier using over-sampling\n",
      "              precision    recall  f1-score   support\n",
      "\n",
      "           0       0.94      0.99      0.97      1418\n",
      "           1       0.85      0.54      0.66       182\n",
      "\n",
      "    accuracy                           0.94      1600\n",
      "   macro avg       0.90      0.76      0.81      1600\n",
      "weighted avg       0.93      0.94      0.93      1600\n",
      "\n",
      "Precision: 0.8521739130434782\n",
      "Recall: 0.5384615384615384\n",
      "Geometric Mean Score: 0.7293874661177213\n"
     ]
    }
   ],
   "source": [
    "print('The Results of the Random Forest Classifier using over-sampling')\n",
    "print(metrics.classification_report(y_test, PredRFWeighted))\n",
    "print('Precision: {}'.format(metrics.precision_score(y_test, PredRFWeighted)))\n",
    "print('Recall: {}'.format(metrics.recall_score(y_test, PredRFWeighted)))\n",
    "print('Geometric Mean Score: {}'.format(geometric_mean_score(y_test, PredRFWeighted)))"
   ]
  },
  {
   "cell_type": "code",
   "execution_count": 29,
   "metadata": {
    "id": "bQ4pQQOFRkAF"
   },
   "outputs": [
    {
     "data": {
      "text/plain": [
       "<AxesSubplot:>"
      ]
     },
     "execution_count": 29,
     "metadata": {},
     "output_type": "execute_result"
    },
    {
     "data": {
      "image/png": "[encoded data removed]",
      "text/plain": [
       "<Figure size 432x288 with 1 Axes>"
      ]
     },
     "metadata": {
      "needs_background": "light"
     },
     "output_type": "display_data"
    }
   ],
   "source": [
    "# # Handle class imbalance using data oversampling\n",
    "# oversampling to increase the number of samples of the minority class.\n",
    "# Using both Random oversampling and SMOTE oversampling.\n",
    "\n",
    "# ros = RandomOverSampler(random_state=100) # uncomment for Random oversampling\n",
    "\n",
    "ros = SMOTE(random_state=100) # uncomment for oversampling using SMOTE\n",
    "X_train_bl, y_train_bl = ros.fit_resample(X_train, y_train)\n",
    "y_train_bl.value_counts().plot.bar()"
   ]
  },
  {
   "cell_type": "code",
   "execution_count": 30,
   "metadata": {
    "id": "PNMSH0oXVEVo"
   },
   "outputs": [],
   "source": [
    "# # Randoming forest using oversampling\n",
    "\n",
    "RF_no_weight = RandomForestClassifier(n_estimators=25, max_leaf_nodes=20, random_state=100)\n",
    "RF_no_weight.fit(X_train_bl, y_train_bl)\n",
    "PredRFOversampling = RF_no_weight.predict(X_test)\n",
    "PredProbRFOversampling = RF_no_weight.predict_proba(X_test)"
   ]
  },
  {
   "cell_type": "code",
   "execution_count": 31,
   "metadata": {
    "id": "vzXqMWB7V_3Q"
   },
   "outputs": [
    {
     "name": "stdout",
     "output_type": "stream",
     "text": [
      "The Results of the Random Forest Classifier using over-sampling\n",
      "              precision    recall  f1-score   support\n",
      "\n",
      "           0       0.97      0.93      0.95      1418\n",
      "           1       0.58      0.77      0.66       182\n",
      "\n",
      "    accuracy                           0.91      1600\n",
      "   macro avg       0.78      0.85      0.81      1600\n",
      "weighted avg       0.93      0.91      0.92      1600\n",
      "\n",
      "Precision: 0.5833333333333334\n",
      "Recall: 0.7692307692307693\n",
      "Geometric Mean Score: 0.8455667822522036\n"
     ]
    }
   ],
   "source": [
    "print('The Results of the Random Forest Classifier using over-sampling')\n",
    "print(metrics.classification_report(y_test, PredRFOversampling))\n",
    "print('Precision: {}'.format(metrics.precision_score(y_test, PredRFOversampling)))\n",
    "print('Recall: {}'.format(metrics.recall_score(y_test, PredRFOversampling)))\n",
    "print('Geometric Mean Score: {}'.format(geometric_mean_score(y_test, PredRFOversampling)))"
   ]
  },
  {
   "cell_type": "code",
   "execution_count": 6,
   "metadata": {
    "colab": {
     "base_uri": "https://localhost:8080/"
    },
    "executionInfo": {
     "elapsed": 654,
     "status": "ok",
     "timestamp": 1674501517900,
     "user": {
      "displayName": "Akinyomi Oluwarotimi Edmund",
      "userId": "04010171578647484774"
     },
     "user_tz": -120
    },
    "id": "EZb6X8tJduQf",
    "outputId": "c7b81184-ff85-4cfd-f6ad-38dcadad1e2d"
   },
   "outputs": [
    {
     "name": "stdout",
     "output_type": "stream",
     "text": [
      "[INFO] Saving model...\n"
     ]
    },
    {
     "ename": "NameError",
     "evalue": "name 'RF_weighted' is not defined",
     "output_type": "error",
     "traceback": [
      "\u001b[1;31m---------------------------------------------------------------------------\u001b[0m",
      "\u001b[1;31mNameError\u001b[0m                                 Traceback (most recent call last)",
      "Input \u001b[1;32mIn [6]\u001b[0m, in \u001b[0;36m<cell line: 3>\u001b[1;34m()\u001b[0m\n\u001b[0;32m      1\u001b[0m \u001b[38;5;66;03m# Dump pickle file of the model\u001b[39;00m\n\u001b[0;32m      2\u001b[0m \u001b[38;5;28mprint\u001b[39m(\u001b[38;5;124m\"\u001b[39m\u001b[38;5;124m[INFO] Saving model...\u001b[39m\u001b[38;5;124m\"\u001b[39m)\n\u001b[1;32m----> 3\u001b[0m pickle\u001b[38;5;241m.\u001b[39mdump(\u001b[43mRF_weighted\u001b[49m,\u001b[38;5;28mopen\u001b[39m(\u001b[38;5;124m'\u001b[39m\u001b[38;5;124m/content/drive/MyDrive/dataset/WaterQuality/rf_classification_model.pkl\u001b[39m\u001b[38;5;124m'\u001b[39m, \u001b[38;5;124m'\u001b[39m\u001b[38;5;124mwb\u001b[39m\u001b[38;5;124m'\u001b[39m))\n",
      "\u001b[1;31mNameError\u001b[0m: name 'RF_weighted' is not defined"
     ]
    }
   ],
   "source": [
    "\n",
    "# Dump pickle file of the model\n",
    "print(\"[INFO] Saving model...\")\n",
    "pickle.dump(RF_weighted,open('/content/drive/MyDrive/dataset/WaterQuality/rf_classification_model.pkl', 'wb'))"
   ]
  },
  {
   "cell_type": "code",
   "execution_count": 7,
   "metadata": {
    "colab": {
     "base_uri": "https://localhost:8080/"
    },
    "executionInfo": {
     "elapsed": 367,
     "status": "ok",
     "timestamp": 1674501651955,
     "user": {
      "displayName": "Akinyomi Oluwarotimi Edmund",
      "userId": "04010171578647484774"
     },
     "user_tz": -120
    },
    "id": "-Il8hLJnijuk",
    "outputId": "4285a006-cb64-451d-f262-8019953c1243"
   },
   "outputs": [
    {
     "name": "stderr",
     "output_type": "stream",
     "text": [
      "C:\\Users\\user\\anaconda3\\lib\\site-packages\\sklearn\\base.py:450: UserWarning: X does not have valid feature names, but RandomForestClassifier was fitted with feature names\n",
      "  warnings.warn(\n"
     ]
    },
    {
     "data": {
      "text/plain": [
       "array([0], dtype=int64)"
      ]
     },
     "execution_count": 7,
     "metadata": {},
     "output_type": "execute_result"
    }
   ],
   "source": [
    "#Test using pickle file\n",
    "model = pickle.load(open('rf_classification_model.pkl', 'rb'))\n",
    "\n",
    "model.predict([ [3.18, 0.15, 0.76, 4.48, 0.01, 1.05, 0.83, 0.3, 1.24, 0, 0.51, 0.098, 11.08, 1.29, 0.003, 23.53, 1.32, 0.04, 0.02, 0.05] ])"
   ]
  },
  {
   "cell_type": "code",
   "execution_count": 8,
   "metadata": {},
   "outputs": [],
   "source": [
    "pickle.dump(model, open('rf_model.sav','wb'))"
   ]
  },
  {
   "cell_type": "code",
   "execution_count": null,
   "metadata": {},
   "outputs": [],
   "source": []
  }
 ],
 "metadata": {
  "colab": {
   "authorship_tag": "ABX9TyPloV/hkZnQlwUOFODsB1Md",
   "provenance": []
  },
  "kernelspec": {
   "display_name": "Python 3 (ipykernel)",
   "language": "python",
   "name": "python3"
  },
  "language_info": {
   "codemirror_mode": {
    "name": "ipython",
    "version": 3
   },
   "file_extension": ".py",
   "mimetype": "text/x-python",
   "name": "python",
   "nbconvert_exporter": "python",
   "pygments_lexer": "ipython3",
   "version": "3.9.12"
  }
 },
 "nbformat": 4,
 "nbformat_minor": 1
}
